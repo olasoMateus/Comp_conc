{
 "cells": [
  {
   "cell_type": "code",
   "execution_count": 1,
   "id": "961cd4bb",
   "metadata": {},
   "outputs": [],
   "source": [
    "using LinearAlgebra"
   ]
  },
  {
   "cell_type": "code",
   "execution_count": null,
   "id": "a6dd3726",
   "metadata": {},
   "outputs": [],
   "source": [
    "function resolve_diagonal(A, b)\n",
    "    x = b\\A\n",
    "    return x\n",
    "end"
   ]
  },
  {
   "cell_type": "code",
   "execution_count": null,
   "id": "b5410dc5",
   "metadata": {},
   "outputs": [],
   "source": [
    "function resolve_triangular_superior(A, b)\n",
    "    n = length(b)\n",
    "    x = zeros(n)\n",
    "    for i = n:-1:1\n",
    "        x[i] = b[i]\n",
    "        for j = i+1:n\n",
    "            x[i] = x[i] - (A[j,i]*x[j])\n",
    "        end\n",
    "        x[i] = x[i]/A[i, i]\n",
    "    end\n",
    "    return x\n",
    "end"
   ]
  },
  {
   "cell_type": "code",
   "execution_count": null,
   "id": "52325d5b",
   "metadata": {},
   "outputs": [],
   "source": [
    "function resolve_triangular_inferior(A, b)\n",
    "    n = length(b)\n",
    "    x = zeros(n)\n",
    "    for i = 1:n\n",
    "        x[i] = b[i]\n",
    "        for j = 1:i\n",
    "            x[i] = x[i] - (A[j,i]*x[j])\n",
    "        end\n",
    "        x[i] = x[i]/A[i, i]\n",
    "    end\n",
    "    return x\n",
    "end"
   ]
  },
  {
   "cell_type": "code",
   "execution_count": null,
   "id": "cce7044d",
   "metadata": {},
   "outputs": [],
   "source": [
    "function decomposicao_LU(A)\n",
    "    n = length(A)\n",
    "    L = Matrix(I,n,n)\n",
    "    U = A\n",
    "    for i = 1:(n - 1)\n",
    "        pivo = U[i,i]\n",
    "        for j = i:n # linha\n",
    "            for k = 1:n # coluna\n",
    "                U[j,k] = U[j,k] - pivo/U[i,j]\n",
    "            end\n",
    "            L[j, i + 1]\n",
    "        end\n",
    "            \n",
    "            "
   ]
  },
  {
   "cell_type": "code",
   "execution_count": 5,
   "id": "2e1883e9",
   "metadata": {},
   "outputs": [
    {
     "data": {
      "text/plain": [
       "4×4 Matrix{Bool}:\n",
       " 1  0  0  0\n",
       " 0  1  0  0\n",
       " 0  0  1  0\n",
       " 0  0  0  1"
      ]
     },
     "execution_count": 5,
     "metadata": {},
     "output_type": "execute_result"
    }
   ],
   "source": [
    "Matrix(I,4,4)"
   ]
  },
  {
   "cell_type": "code",
   "execution_count": null,
   "id": "fbe29780",
   "metadata": {},
   "outputs": [],
   "source": []
  }
 ],
 "metadata": {
  "kernelspec": {
   "display_name": "Julia 1.7.0",
   "language": "julia",
   "name": "julia-1.7"
  },
  "language_info": {
   "file_extension": ".jl",
   "mimetype": "application/julia",
   "name": "julia",
   "version": "1.7.0"
  }
 },
 "nbformat": 4,
 "nbformat_minor": 5
}
